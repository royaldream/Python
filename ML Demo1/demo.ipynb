{
 "cells": [
  {
   "cell_type": "code",
   "execution_count": 28,
   "metadata": {},
   "outputs": [
    {
     "name": "stdout",
     "output_type": "stream",
     "text": [
      "numpy : 1.15.4\n",
      "pandas : 0.23.4\n"
     ]
    }
   ],
   "source": [
    "import matplotlib.pyplot as plot\n",
    "import numpy as np\n",
    "import pandas as pd\n",
    "import math\n",
    "print \"numpy :\",np.__version__\n",
    "print \"pandas :\",pd.__version__\n",
    "# print \"matplotlib :\",plot.__version__"
   ]
  },
  {
   "cell_type": "code",
   "execution_count": 31,
   "metadata": {},
   "outputs": [],
   "source": [
    "def plot_points(X,y):\n",
    "    admited=X[np.argwhere(y==1)]\n",
    "    rejected=X[np.argwhere(y==0)]\n",
    "    plot.scatter([s[0][0] for s in rejected],[s[0][1] for s in rejected],color=\"blue\",edgecolor='k')\n",
    "    plot.scatter([s[0][0] for s in admited],[s[0][1] for s in rejected],color=\"red\",edgecolor='k')\n",
    "    "
   ]
  },
  {
   "cell_type": "code",
   "execution_count": 32,
   "metadata": {},
   "outputs": [
    {
     "data": {
      "image/png": "[encoded data removed]",
      "text/plain": [
       "<Figure size 432x288 with 1 Axes>"
      ]
     },
     "metadata": {
      "needs_background": "light"
     },
     "output_type": "display_data"
    }
   ],
   "source": [
    "datas=pd.read_csv('data.csv',header=None)\n",
    "X=np.array(datas[[0,1]])\n",
    "y=np.array(datas[2])\n",
    "plot_points(X,y)\n",
    "plot.show()"
   ]
  }
 ],
 "metadata": {
  "kernelspec": {
   "display_name": "Python 2",
   "language": "python",
   "name": "python2"
  },
  "language_info": {
   "codemirror_mode": {
    "name": "ipython",
    "version": 2
   },
   "file_extension": ".py",
   "mimetype": "text/x-python",
   "name": "python",
   "nbconvert_exporter": "python",
   "pygments_lexer": "ipython2",
   "version": "2.7.15"
  }
 },
 "nbformat": 4,
 "nbformat_minor": 2
}
