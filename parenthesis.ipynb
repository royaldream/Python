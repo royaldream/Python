{
 "metadata": {
  "language_info": {
   "codemirror_mode": {
    "name": "ipython",
    "version": 3
   },
   "file_extension": ".py",
   "mimetype": "text/x-python",
   "name": "python",
   "nbconvert_exporter": "python",
   "pygments_lexer": "ipython3",
   "version": "3.7.2"
  },
  "orig_nbformat": 2,
  "kernelspec": {
   "name": "python37264bited08919d8bf24c87afebe95039c23d89",
   "display_name": "Python 3.7.2 64-bit"
  },
  "metadata": {
   "interpreter": {
    "hash": "60eb1d0f96393a1e0420bb6ca0f5435a81d9c3ff4319ce3c90a222065ab89d85"
   }
  }
 },
 "nbformat": 4,
 "nbformat_minor": 2,
 "cells": [
  {
   "cell_type": "code",
   "execution_count": 70,
   "metadata": {},
   "outputs": [],
   "source": [
    "def revese(inputStr):\n",
    "    inputStr = inputStr.replace('(', '')\n",
    "    inputStr = inputStr.replace(')', '')\n",
    "    return inputStr[::-1]"
   ]
  },
  {
   "cell_type": "code",
   "execution_count": 84,
   "metadata": {},
   "outputs": [],
   "source": [
    "def matched(inputString):\n",
    "    flag = False\n",
    "    pStr = ''\n",
    "    count = 0\n",
    "    \n",
    "    for i in inputString:\n",
    "        if i == '(':\n",
    "            if flag:\n",
    "                pStr += i\n",
    "                count -=- 1\n",
    "            else:\n",
    "                pStr += i\n",
    "                flag= True\n",
    "        elif i==')':\n",
    "            if flag and count == 0:\n",
    "                pStr += i\n",
    "                pList.append(pStr)\n",
    "                print()\n",
    "                print(matched(pStr))\n",
    "                print('list',pStr)\n",
    "                print('reverse',revese(pStr))\n",
    "                pStr = ''\n",
    "                flag = False\n",
    "            elif count>0:\n",
    "                pStr += i\n",
    "                count -= 1\n",
    "        elif flag:\n",
    "            pStr+=i\n"
   ]
  },
  {
   "cell_type": "code",
   "execution_count": 77,
   "metadata": {},
   "outputs": [],
   "source": [
    "def findParenthesis(inputString):\n",
    "    nStr = ''\n",
    "    pList = []\n",
    "    flag = False\n",
    "    pStr = ''\n",
    "    count = 0\n",
    "    for i in inputString:\n",
    "        if i==')':\n",
    "            if flag and count == 0:\n",
    "                pStr += i\n",
    "                pList.append(pStr)\n",
    "                print()\n",
    "                print(matched(pStr))\n",
    "                print('list',pStr)\n",
    "                print('reverse',revese(pStr))\n",
    "                pStr = ''\n",
    "                flag = False\n",
    "            elif count>0:\n",
    "                pStr += i\n",
    "                count -= 1\n",
    "        elif i == '(':\n",
    "            if flag:\n",
    "                pStr += i\n",
    "                count -= -1\n",
    "            else:\n",
    "                pStr += i\n",
    "                flag= True\n",
    "        elif flag:\n",
    "            pStr+=i\n",
    "        else:\n",
    "            print(i,end=\"\")\n",
    "    return pList"
   ]
  },
  {
   "cell_type": "code",
   "execution_count": 80,
   "metadata": {},
   "outputs": [],
   "source": []
  },
  {
   "cell_type": "code",
   "execution_count": 81,
   "metadata": {},
   "outputs": [
    {
     "output_type": "stream",
     "name": "stdout",
     "text": [
      "foo\nTrue\nlist (bar)\nreverse rab\n123foo\nTrue\nlist (bar(4561)xyz)\nreverse zyx1654rab\n123foo\nTrue\nlist (bar)\nreverse rab\n1\nTrue\nlist (xyz)\nreverse zyx\n123"
     ]
    },
    {
     "output_type": "execute_result",
     "data": {
      "text/plain": [
       "['(bar)', '(xyz)']"
      ]
     },
     "metadata": {},
     "execution_count": 81
    }
   ],
   "source": [
    "findParenthesis('foo(bar)123')\n",
    "findParenthesis('foo(bar(4561)xyz)123')\n",
    "findParenthesis('foo(bar)1(xyz)123')"
   ]
  },
  {
   "cell_type": "code",
   "execution_count": 22,
   "metadata": {},
   "outputs": [
    {
     "output_type": "stream",
     "name": "stdout",
     "text": [
      "----------- 0 -----------\n1 2 False  swap\n----------- 1 -----------\n2 3 False  reverse swap\nTrue\n----------- 0 -----------\n1 NOT SWAP\nFalse\n"
     ]
    },
    {
     "output_type": "execute_result",
     "data": {
      "text/plain": [
       "False"
      ]
     },
     "metadata": {},
     "execution_count": 22
    }
   ],
   "source": [
    "def areSimilar(a, b):\n",
    "    flag = False\n",
    "    count = 0\n",
    "    for i in range(len(a)-1):\n",
    "        print('-----------',i,'-----------')\n",
    "        if not flag:\n",
    "            if a[i] == b[i]:\n",
    "                print(a[i],flag,' equals')\n",
    "                # continue\n",
    "            elif (a[i] == b[i+1]) and (a[i+1] == b[i]) and count ==0:\n",
    "                print(a[i],a[i+1],flag,' swap')\n",
    "                count = 1\n",
    "                # continue\n",
    "            elif count == 1:\n",
    "                if a[i-1] == b[i] and (a[i] == b[i-1]):\n",
    "                    print(a[i],a[i+1],flag,' reverse swap')\n",
    "                    count += 1\n",
    "                    continue\n",
    "                else:\n",
    "                    print(a[i],'NOT SWAP')\n",
    "                    flag = True\n",
    "                    break\n",
    "            else:\n",
    "                print(a[i],'NOT SWAP')\n",
    "                flag = True\n",
    "                break\n",
    "        # else:\n",
    "        #     break\n",
    "    print(not flag)\n",
    "    return (not flag)\n",
    "\n",
    "areSimilar([1,2,3],[2,1,3])\n",
    "areSimilar([1,2,3],[2,3,3])"
   ]
  },
  {
   "cell_type": "code",
   "execution_count": 59,
   "metadata": {},
   "outputs": [
    {
     "output_type": "stream",
     "name": "stdout",
     "text": [
      "0 True\n1 False\n2 True\n3 True\n4 False\n5 True\n6 False\n"
     ]
    }
   ],
   "source": [
    "def swapPositions(list, pos1, pos2):\n",
    "      \n",
    "    # popping both the elements from list\n",
    "    first_ele = list.pop(pos1)   \n",
    "    second_ele = list.pop(pos2-1)\n",
    "     \n",
    "    # inserting in each others positions\n",
    "    list.insert(pos1, second_ele)  \n",
    "    list.insert(pos2, first_ele)  \n",
    "      \n",
    "    return list\n",
    "\n",
    "def changeArrayItem(a,b):\n",
    "    x = []\n",
    "    flag = True\n",
    "    for i in range(len(a)):\n",
    "        if b[i] in a:\n",
    "            # print(a[i],'a',i)\n",
    "            if a[i] == b[i]:\n",
    "                pass\n",
    "            elif flag:\n",
    "                # a[i],a[a.index(b[i])] = a[a.index(b[i])],a[i]\n",
    "                swapPositions(a,i,a.index(b[i]))\n",
    "                # print('index',i,a.index(b[i]))\n",
    "                # print(a[i],a[a.index(b[i])])\n",
    "                # print(b[i],a[i])\n",
    "                # print(a,b)\n",
    "                if a == b:\n",
    "                    return True\n",
    "                flag = False\n",
    "            else:\n",
    "                return False\n",
    "        else:\n",
    "            return False\n",
    "    return flag\n",
    "\n",
    "\n",
    "def areSimilar(a, b):\n",
    "    flag = False\n",
    "    if a == b:\n",
    "        flag = True\n",
    "    else:\n",
    "        flag = changeArrayItem(a,b)\n",
    "    return flag\n",
    "\n",
    "print('0',areSimilar([1,2,3],[2,1,3]))\n",
    "print('1',areSimilar([1,2,3],[2,2,3]))\n",
    "print('2',areSimilar([1,2,3],[1,2,3]))\n",
    "print('3',areSimilar([1,2,3],[3,2,1]))\n",
    "print('4',areSimilar([1,1,4],[1,2,3]))\n",
    "print('5',areSimilar([2,1],[1,2]))\n",
    "print('6',areSimilar([1,2,1,4],[1,4,2,1]))\n",
    "# a: [1, 1, 4]\n",
    "# b: [1, 2, 3]"
   ]
  },
  {
   "cell_type": "code",
   "execution_count": 61,
   "metadata": {},
   "outputs": [
    {
     "output_type": "execute_result",
     "data": {
      "text/plain": [
       "False"
      ]
     },
     "metadata": {},
     "execution_count": 61
    }
   ],
   "source": [
    "def first_bad_pair(sequence, k):\n",
    "    \"\"\"Return the first index of a pair of elements in sequence[]\n",
    "    for indices k-1, k+1, k+2, k+3, ... where the earlier element is\n",
    "    not less than the later element. If no such pair exists, return -1.\"\"\"\n",
    "    if 0 < k < len(sequence) - 1:\n",
    "        if sequence[k-1] >= sequence[k+1]:\n",
    "            return k-1\n",
    "    for i in range(k+1, len(sequence)-1):\n",
    "        if sequence[i] >= sequence[i+1]:\n",
    "            return i\n",
    "    return -1\n",
    "\n",
    "def almostIncreasingSequence(sequence):\n",
    "    \"\"\"Return whether it is possible to obtain a strictly increasing\n",
    "    sequence by removing no more than one element from the array.\"\"\"\n",
    "    j = first_bad_pair(sequence, -1)\n",
    "    if j == -1:\n",
    "        return True  # List is increasing\n",
    "    if first_bad_pair(sequence, j) == -1:\n",
    "        return True  # Deleting earlier element makes increasing\n",
    "    if first_bad_pair(sequence, j+1) == -1:\n",
    "        return True  # Deleting later element makes increasing\n",
    "    return False  # Deleting either does not make increasing\n",
    "\n",
    "almostIncreasingSequence([1,3,2,1])"
   ]
  },
  {
   "cell_type": "code",
   "execution_count": 126,
   "metadata": {},
   "outputs": [
    {
     "output_type": "execute_result",
     "data": {
      "text/plain": [
       "True"
      ]
     },
     "metadata": {},
     "execution_count": 126
    }
   ],
   "source": [
    "def checkList(a,k):\n",
    "    if 0 < k < len(a) - 1:\n",
    "        if a[k-1] >= a[k+1]:\n",
    "            return k-1\n",
    "    for i in range(k+1,len(a)-1):\n",
    "        if a[i]>=a[i+1]:\n",
    "            return i\n",
    "    return -1\n",
    "\n",
    "def almostIncreasingSequence1(a):\n",
    "    count = checkList(a,-1)\n",
    "    if count == -1:\n",
    "        return True\n",
    "    if checkList(a,count)==-1:\n",
    "        return True\n",
    "    if checkList(a,count+1)==-1:\n",
    "        return True\n",
    "    return False\n",
    "\n",
    "\n",
    "almostIncreasingSequence1([1,3,2,4])"
   ]
  },
  {
   "cell_type": "code",
   "execution_count": null,
   "metadata": {},
   "outputs": [],
   "source": []
  }
 ]
}