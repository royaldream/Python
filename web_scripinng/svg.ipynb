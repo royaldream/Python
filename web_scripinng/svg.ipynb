{
 "cells": [
  {
   "cell_type": "code",
   "execution_count": 1,
   "metadata": {},
   "outputs": [],
   "source": [
    "from bs4 import BeautifulSoup\n",
    "import requests\n",
    "import os\n",
    "from urllib.parse import urlparse"
   ]
  },
  {
   "cell_type": "code",
   "execution_count": 2,
   "metadata": {},
   "outputs": [],
   "source": [
    "import asyncio\n",
    "import time"
   ]
  },
  {
   "cell_type": "code",
   "execution_count": 3,
   "metadata": {},
   "outputs": [],
   "source": [
    "page = requests.get('https://www.swaminarayanvadtalgadi.org/status/')\n",
    "        # print(page)\n",
    "soup = BeautifulSoup(page.content, 'html.parser')"
   ]
  },
  {
   "cell_type": "code",
   "execution_count": 4,
   "metadata": {},
   "outputs": [],
   "source": [
    "# soup"
   ]
  },
  {
   "cell_type": "code",
   "execution_count": 5,
   "metadata": {},
   "outputs": [],
   "source": [
    "# svg-youtube-playlist-section\n",
    "results = soup.find(id='svg-youtube-playlist-section')\n",
    "# results"
   ]
  },
  {
   "cell_type": "code",
   "execution_count": 6,
   "metadata": {
    "tags": [
     "outputPrepend"
    ]
   },
   "outputs": [
    {
     "output_type": "stream",
     "name": "stdout",
     "text": [
      "or-hits-view-242434\">183</span></p> <!--</a>--></div></div><div class=\"col-md-2 col-xs-6\"><div class=\"status-gallery-section\"> <!--<a href=\"https://www.swaminarayanvadtalgadi.org/wp-content/uploads/2020/02/Sacho-Arth-Mari-Marji-Vina-Re-Koithi-Tarnu-Nav-Today-360p.mp4\" title=\"\" data-id=\"242438\" class=\"download-svg-visitor-hits\" download=\"true\">--> <img class=\"lazy watch-video\" data-src=\"https://www.swaminarayanvadtalgadi.org/wp-content/uploads/2020/02/Sacho-Arth-Mari-Marji-Vina-Re-Koithi-Tarnu-Nav-Today-360p.mp4\" src=\"https://www.swaminarayanvadtalgadi.org/wp-content/uploads/2020/02/Sacho-Arth-Mari-Marji-Vina-Re-Koithi-Tarnu-Nav-Today.jpg\" width=\"100%\"/><p><a class=\"watch-video download-svg-visitor-hits\" data-id=\"242438\" download=\"true\" href=\"https://www.swaminarayanvadtalgadi.org/wp-content/uploads/2020/02/Sacho-Arth-Mari-Marji-Vina-Re-Koithi-Tarnu-Nav-Today-360p.mp4\" title=\"\"> <span class=\"magazine-download-link\">Download</span> </a></p><p> <i class=\"fa fa-cloud-download\"></i> <span class=\"text-left\" id=\"svg-visitor-hits-view-242438\">278</span></p> <!--</a>--></div></div><div class=\"col-md-2 col-xs-6\"><div class=\"status-gallery-section\"> <!--<a href=\"https://www.swaminarayanvadtalgadi.org/wp-content/uploads/2020/02/Rajipo-Kalyanno-Rasto.mp4\" title=\"\" data-id=\"242433\" class=\"download-svg-visitor-hits\" download=\"true\">--> <img class=\"lazy watch-video\" data-src=\"https://www.swaminarayanvadtalgadi.org/wp-content/uploads/2020/02/Rajipo-Kalyanno-Rasto.mp4\" src=\"https://www.swaminarayanvadtalgadi.org/wp-content/uploads/2020/02/Rajipo-Kalyanno-Rasto.jpg\" width=\"100%\"/><p><a class=\"watch-video download-svg-visitor-hits\" data-id=\"242433\" download=\"true\" href=\"https://www.swaminarayanvadtalgadi.org/wp-content/uploads/2020/02/Rajipo-Kalyanno-Rasto.mp4\" title=\"\"> <span class=\"magazine-download-link\">Download</span> </a></p><p> <i class=\"fa fa-cloud-download\"></i> <span class=\"text-left\" id=\"svg-visitor-hits-view-242433\">74</span></p> <!--</a>--></div></div><div class=\"col-md-2 col-xs-6\"><div class=\"status-gallery-section\"> <!--<a href=\"https://www.swaminarayanvadtalgadi.org/wp-content/uploads/2020/02/Dharmkulno-Dharm.mp4\" title=\"\" data-id=\"242432\" class=\"download-svg-visitor-hits\" download=\"true\">--> <img class=\"lazy watch-video\" data-src=\"https://www.swaminarayanvadtalgadi.org/wp-content/uploads/2020/02/Dharmkulno-Dharm.mp4\" src=\"https://www.swaminarayanvadtalgadi.org/wp-content/uploads/2020/02/Dharmkulno-Dharm.jpg\" width=\"100%\"/><p><a class=\"watch-video download-svg-visitor-hits\" data-id=\"242432\" download=\"true\" href=\"https://www.swaminarayanvadtalgadi.org/wp-content/uploads/2020/02/Dharmkulno-Dharm.mp4\" title=\"\"> <span class=\"magazine-download-link\">Download</span> </a></p><p> <i class=\"fa fa-cloud-download\"></i> <span class=\"text-left\" id=\"svg-visitor-hits-view-242432\">131</span></p> <!--</a>--></div></div><div class=\"col-md-2 col-xs-6\"><div class=\"status-gallery-section\"> <!--<a href=\"https://www.swaminarayanvadtalgadi.org/wp-content/uploads/2020/02/Bramhanand-Swamini-Jem-Atmachintan-Jivanma-Avashy-Karvu-360p.mp4\" title=\"\" data-id=\"242439\" class=\"download-svg-visitor-hits\" download=\"true\">--> <img class=\"lazy watch-video\" data-src=\"https://www.swaminarayanvadtalgadi.org/wp-content/uploads/2020/02/Bramhanand-Swamini-Jem-Atmachintan-Jivanma-Avashy-Karvu-360p.mp4\" src=\"https://www.swaminarayanvadtalgadi.org/wp-content/uploads/2020/02/Bramhanand-Swamini-Jem-Atmachintan-Jivanma-Avashy-Karvu.jpg\" width=\"100%\"/><p><a class=\"watch-video download-svg-visitor-hits\" data-id=\"242439\" download=\"true\" href=\"https://www.swaminarayanvadtalgadi.org/wp-content/uploads/2020/02/Bramhanand-Swamini-Jem-Atmachintan-Jivanma-Avashy-Karvu-360p.mp4\" title=\"\"> <span class=\"magazine-download-link\">Download</span> </a></p><p> <i class=\"fa fa-cloud-download\"></i> <span class=\"text-left\" id=\"svg-visitor-hits-view-242439\">126</span></p> <!--</a>--></div></div><div class=\"col-md-2 col-xs-6\"><div class=\"status-gallery-section\"> <!--<a href=\"https://www.swaminarayanvadtalgadi.org/wp-content/uploads/2020/02/Apana-Kalyanni-Javabdari-Koni.mp4\" title=\"\" data-id=\"242431\" class=\"download-svg-visitor-hits\" download=\"true\">--> <img class=\"lazy watch-video\" data-src=\"https://www.swaminarayanvadtalgadi.org/wp-content/uploads/2020/02/Apana-Kalyanni-Javabdari-Koni.mp4\" src=\"https://www.swaminarayanvadtalgadi.org/wp-content/uploads/2020/02/Apana-Kalyanni-Javabdari-Koni.jpg\" width=\"100%\"/><p><a class=\"watch-video download-svg-visitor-hits\" data-id=\"242431\" download=\"true\" href=\"https://www.swaminarayanvadtalgadi.org/wp-content/uploads/2020/02/Apana-Kalyanni-Javabdari-Koni.mp4\" title=\"\"> <span class=\"magazine-download-link\">Download</span> </a></p><p> <i class=\"fa fa-cloud-download\"></i> <span class=\"text-left\" id=\"svg-visitor-hits-view-242431\">103</span></p> <!--</a>--></div></div><div class=\"col-md-2 col-xs-6\"><div class=\"status-gallery-section\"> <!--<a href=\"https://www.swaminarayanvadtalgadi.org/wp-content/uploads/2020/02/Akshardhamno-Marg-Sahelo-k-Agharo.mp4\" title=\"\" data-id=\"242430\" class=\"download-svg-visitor-hits\" download=\"true\">--> <img class=\"lazy watch-video\" data-src=\"https://www.swaminarayanvadtalgadi.org/wp-content/uploads/2020/02/Akshardhamno-Marg-Sahelo-k-Agharo.mp4\" src=\"https://www.swaminarayanvadtalgadi.org/wp-content/uploads/2020/02/Akshardhamno-Marg-Sahelo-k-Agharo.jpg\" width=\"100%\"/><p><a class=\"watch-video download-svg-visitor-hits\" data-id=\"242430\" download=\"true\" href=\"https://www.swaminarayanvadtalgadi.org/wp-content/uploads/2020/02/Akshardhamno-Marg-Sahelo-k-Agharo.mp4\" title=\"\"> <span class=\"magazine-download-link\">Download</span> </a></p><p> <i class=\"fa fa-cloud-download\"></i> <span class=\"text-left\" id=\"svg-visitor-hits-view-242430\">136</span></p> <!--</a>--></div></div><div class=\"col-md-2 col-xs-6\"><div class=\"status-gallery-section\"> <!--<a href=\"https://www.swaminarayanvadtalgadi.org/wp-content/uploads/2020/02/Vachanamrutna-Adhare-Bhagvan-Kem-Raji-Thay-Status-480p.mp4\" title=\"\" data-id=\"242391\" class=\"download-svg-visitor-hits\" download=\"true\">--> <img class=\"lazy watch-video\" data-src=\"https://www.swaminarayanvadtalgadi.org/wp-content/uploads/2020/02/Vachanamrutna-Adhare-Bhagvan-Kem-Raji-Thay-Status-480p.mp4\" src=\"https://www.swaminarayanvadtalgadi.org/wp-content/uploads/2020/02/Vachanamrutna-Adhare-Bhagvan-Kem-Raji-Thay-Status-img.jpg\" width=\"100%\"/><p><a class=\"watch-video download-svg-visitor-hits\" data-id=\"242391\" download=\"true\" href=\"https://www.swaminarayanvadtalgadi.org/wp-content/uploads/2020/02/Vachanamrutna-Adhare-Bhagvan-Kem-Raji-Thay-Status-480p.mp4\" title=\"\"> <span class=\"magazine-download-link\">Download</span> </a></p><p> <i class=\"fa fa-cloud-download\"></i> <span class=\"text-left\" id=\"svg-visitor-hits-view-242391\">69</span></p> <!--</a>--></div></div><div class=\"col-md-2 col-xs-6\"><div class=\"status-gallery-section\"> <!--<a href=\"https://www.swaminarayanvadtalgadi.org/wp-content/uploads/2020/02/Maharaj-Utsav-Smaiya-Sha-Mate-Karavta-Staus-480p.mp4\" title=\"\" data-id=\"242390\" class=\"download-svg-visitor-hits\" download=\"true\">--> <img class=\"lazy watch-video\" data-src=\"https://www.swaminarayanvadtalgadi.org/wp-content/uploads/2020/02/Maharaj-Utsav-Smaiya-Sha-Mate-Karavta-Staus-480p.mp4\" src=\"https://www.swaminarayanvadtalgadi.org/wp-content/uploads/2020/02/Maharaj-Utsav-Smaiya-Sha-Mate-Karavta-Staus-img.jpg\" width=\"100%\"/><p><a class=\"watch-video download-svg-visitor-hits\" data-id=\"242390\" download=\"true\" href=\"https://www.swaminarayanvadtalgadi.org/wp-content/uploads/2020/02/Maharaj-Utsav-Smaiya-Sha-Mate-Karavta-Staus-480p.mp4\" title=\"\"> <span class=\"magazine-download-link\">Download</span> </a></p><p> <i class=\"fa fa-cloud-download\"></i> <span class=\"text-left\" id=\"svg-visitor-hits-view-242390\">47</span></p> <!--</a>--></div></div><div class=\"col-md-2 col-xs-6\"><div class=\"status-gallery-section\"> <!--<a href=\"https://www.swaminarayanvadtalgadi.org/wp-content/uploads/2020/02/Kaliyugma-Konu-Chale-Status-480p.mp4\" title=\"\" data-id=\"242389\" class=\"download-svg-visitor-hits\" download=\"true\">--> <img class=\"lazy watch-video\" data-src=\"https://www.swaminarayanvadtalgadi.org/wp-content/uploads/2020/02/Kaliyugma-Konu-Chale-Status-480p.mp4\" src=\"https://www.swaminarayanvadtalgadi.org/wp-content/uploads/2020/02/Kaliyugma-Konu-Chale-Status-img.jpg\" width=\"100%\"/><p><a class=\"watch-video download-svg-visitor-hits\" data-id=\"242389\" download=\"true\" href=\"https://www.swaminarayanvadtalgadi.org/wp-content/uploads/2020/02/Kaliyugma-Konu-Chale-Status-480p.mp4\" title=\"\"> <span class=\"magazine-download-link\">Download</span> </a></p><p> <i class=\"fa fa-cloud-download\"></i> <span class=\"text-left\" id=\"svg-visitor-hits-view-242389\">206</span></p> <!--</a>--></div></div><div class=\"col-md-2 col-xs-6\"><div class=\"status-gallery-section\"> <!--<a href=\"https://www.swaminarayanvadtalgadi.org/wp-content/uploads/2020/02/Dharmkulna-Jivanmathi-Abhav-Avagun-Nikale-j-Nahi-Status-480p.mp4\" title=\"\" data-id=\"242388\" class=\"download-svg-visitor-hits\" download=\"true\">--> <img class=\"lazy watch-video\" data-src=\"https://www.swaminarayanvadtalgadi.org/wp-content/uploads/2020/02/Dharmkulna-Jivanmathi-Abhav-Avagun-Nikale-j-Nahi-Status-480p.mp4\" src=\"https://www.swaminarayanvadtalgadi.org/wp-content/uploads/2020/02/Dharmkulna-Jivanmathi-Abhav-Avagun-Nikale-j-Nahi-Status-img.jpg\" width=\"100%\"/><p><a class=\"watch-video download-svg-visitor-hits\" data-id=\"242388\" download=\"true\" href=\"https://www.swaminarayanvadtalgadi.org/wp-content/uploads/2020/02/Dharmkulna-Jivanmathi-Abhav-Avagun-Nikale-j-Nahi-Status-480p.mp4\" title=\"\"> <span class=\"magazine-download-link\">Download</span> </a></p><p> <i class=\"fa fa-cloud-download\"></i> <span class=\"text-left\" id=\"svg-visitor-hits-view-242388\">57</span></p> <!--</a>--></div></div><div class=\"col-md-2 col-xs-6\"><div class=\"status-gallery-section\"> <!--<a href=\"https://www.swaminarayanvadtalgadi.org/wp-content/uploads/2020/02/મંદિર-શા-માટે-જરૂરી-છે-2020-480p.mp4\" title=\"\" data-id=\"242365\" class=\"download-svg-visitor-hits\" download=\"true\">--> <img class=\"lazy watch-video\" data-src=\"https://www.swaminarayanvadtalgadi.org/wp-content/uploads/2020/02/મંદિર-શા-માટે-જરૂરી-છે-2020-480p.mp4\" src=\"https://www.swaminarayanvadtalgadi.org/wp-content/uploads/2020/02/Mandir-Sha-Mate-Jaruri-6.jpg\" width=\"100%\"/><p><a class=\"watch-video download-svg-visitor-hits\" data-id=\"242365\" download=\"true\" href=\"https://www.swaminarayanvadtalgadi.org/wp-content/uploads/2020/02/મંદિર-શા-માટે-જરૂરી-છે-2020-480p.mp4\" title=\"\"> <span class=\"magazine-download-link\">Download</span> </a></p><p> <i class=\"fa fa-cloud-download\"></i> <span class=\"text-left\" id=\"svg-visitor-hits-view-242365\">904</span></p> <!--</a>--></div></div><div class=\"col-md-2 col-xs-6\"><div class=\"status-gallery-section\"> <!--<a href=\"https://www.swaminarayanvadtalgadi.org/wp-content/uploads/2020/02/શું-કરશો-તો-ભગવાન-અંતકાળે-યાદ-આવે-2020-480p.mp4\" title=\"\" data-id=\"242363\" class=\"download-svg-visitor-hits\" download=\"true\">--> <img class=\"lazy watch-video\" data-src=\"https://www.swaminarayanvadtalgadi.org/wp-content/uploads/2020/02/શું-કરશો-તો-ભગવાન-અંતકાળે-યાદ-આવે-2020-480p.mp4\" src=\"https://www.swaminarayanvadtalgadi.org/wp-content/uploads/2020/02/shu-karsho-to-bhagvan-ant-kale-yad-aave.jpg\" width=\"100%\"/><p><a class=\"watch-video download-svg-visitor-hits\" data-id=\"242363\" download=\"true\" href=\"https://www.swaminarayanvadtalgadi.org/wp-content/uploads/2020/02/શું-કરશો-તો-ભગવાન-અંતકાળે-યાદ-આવે-2020-480p.mp4\" title=\"\"> <span class=\"magazine-download-link\">Download</span> </a></p><p> <i class=\"fa fa-cloud-download\"></i> <span class=\"text-left\" id=\"svg-visitor-hits-view-242363\">2137</span></p> <!--</a>--></div></div><div class=\"col-md-2 col-xs-6\"><div class=\"status-gallery-section\"> <!--<a href=\"https://www.swaminarayanvadtalgadi.org/wp-content/uploads/2020/01/Nugendraprasadji-Maharaj-Shree-1.mp4\" title=\"\" data-id=\"240180\" class=\"download-svg-visitor-hits\" download=\"true\">--> <img class=\"lazy watch-video\" data-src=\"https://www.swaminarayanvadtalgadi.org/wp-content/uploads/2020/01/Nugendraprasadji-Maharaj-Shree-1.mp4\" src=\"https://www.swaminarayanvadtalgadi.org/wp-content/uploads/2020/01/Nugendraprasadji-Maharaj-Shree.jpg\" width=\"100%\"/><p><a class=\"watch-video download-svg-visitor-hits\" data-id=\"240180\" download=\"true\" href=\"https://www.swaminarayanvadtalgadi.org/wp-content/uploads/2020/01/Nugendraprasadji-Maharaj-Shree-1.mp4\" title=\"\"> <span class=\"magazine-download-link\">Download</span> </a></p><p> <i class=\"fa fa-cloud-download\"></i> <span class=\"text-left\" id=\"svg-visitor-hits-view-240180\">1387</span></p> <!--</a>--></div></div><div class=\"col-md-2 col-xs-6\"><div class=\"status-gallery-section\"> <!--<a href=\"https://www.swaminarayanvadtalgadi.org/wp-content/uploads/2019/12/Sakhi-Aaj-Mohan-Ditha-Re.mp4\" title=\"\" data-id=\"239737\" class=\"download-svg-visitor-hits\" download=\"true\">--> <img class=\"lazy watch-video\" data-src=\"https://www.swaminarayanvadtalgadi.org/wp-content/uploads/2019/12/Sakhi-Aaj-Mohan-Ditha-Re.mp4\" src=\"https://www.swaminarayanvadtalgadi.org/wp-content/uploads/2019/12/Sakhi-Aaj-Mohan-Ditha-Re.jpg\" width=\"100%\"/><p><a class=\"watch-video download-svg-visitor-hits\" data-id=\"239737\" download=\"true\" href=\"https://www.swaminarayanvadtalgadi.org/wp-content/uploads/2019/12/Sakhi-Aaj-Mohan-Ditha-Re.mp4\" title=\"\"> <span class=\"magazine-download-link\">Download</span> </a></p><p> <i class=\"fa fa-cloud-download\"></i> <span class=\"text-left\" id=\"svg-visitor-hits-view-239737\">1486</span></p> <!--</a>--></div></div><div class=\"col-md-2 col-xs-6\"><div class=\"status-gallery-section\"> <!--<a href=\"https://www.swaminarayanvadtalgadi.org/wp-content/uploads/2019/12/Gopinath-AAvo-mare-Orde.mp4\" title=\"\" data-id=\"239733\" class=\"download-svg-visitor-hits\" download=\"true\">--> <img class=\"lazy watch-video\" data-src=\"https://www.swaminarayanvadtalgadi.org/wp-content/uploads/2019/12/Gopinath-AAvo-mare-Orde.mp4\" src=\"https://www.swaminarayanvadtalgadi.org/wp-content/uploads/2019/12/Gopinath-AAvo-mare-Orde.jpg\" width=\"100%\"/><p><a class=\"watch-video download-svg-visitor-hits\" data-id=\"239733\" download=\"true\" href=\"https://www.swaminarayanvadtalgadi.org/wp-content/uploads/2019/12/Gopinath-AAvo-mare-Orde.mp4\" title=\"\"> <span class=\"magazine-download-link\">Download</span> </a></p><p> <i class=\"fa fa-cloud-download\"></i> <span class=\"text-left\" id=\"svg-visitor-hits-view-239733\">5020</span></p> <!--</a>--></div></div><div class=\"col-md-2 col-xs-6\"><div class=\"status-gallery-section\"> <!--<a href=\"https://www.swaminarayanvadtalgadi.org/wp-content/uploads/2019/12/Swaminarayan-Gashe-taru-saru-te-di-thase.mp4\" title=\"\" data-id=\"239611\" class=\"download-svg-visitor-hits\" download=\"true\">--> <img class=\"lazy watch-video\" data-src=\"https://www.swaminarayanvadtalgadi.org/wp-content/uploads/2019/12/Swaminarayan-Gashe-taru-saru-te-di-thase.mp4\" src=\"https://www.swaminarayanvadtalgadi.org/wp-content/uploads/2019/12/Swaminarayan-Gashe-Taru-Saru-Te-Di-Thase-Image.jpg\" width=\"100%\"/><p><a class=\"watch-video download-svg-visitor-hits\" data-id=\"239611\" download=\"true\" href=\"https://www.swaminarayanvadtalgadi.org/wp-content/uploads/2019/12/Swaminarayan-Gashe-taru-saru-te-di-thase.mp4\" title=\"\"> <span class=\"magazine-download-link\">Download</span> </a></p><p> <i class=\"fa fa-cloud-download\"></i> <span class=\"text-left\" id=\"svg-visitor-hits-view-239611\">1175</span></p> <!--</a>--></div></div><div class=\"col-md-2 col-xs-6\"><div class=\"status-gallery-section\"> <!--<a href=\"https://www.swaminarayanvadtalgadi.org/wp-content/uploads/2019/12/Swaminarayan-Gaiye-re.mp4\" title=\"\" data-id=\"239598\" class=\"download-svg-visitor-hits\" download=\"true\">--> <img class=\"lazy watch-video\" data-src=\"https://www.swaminarayanvadtalgadi.org/wp-content/uploads/2019/12/Swaminarayan-Gaiye-re.mp4\" src=\"https://www.swaminarayanvadtalgadi.org/wp-content/uploads/2019/12/Swaminarayan-Gaiye-Re-Image.jpg\" width=\"100%\"/><p><a class=\"watch-video download-svg-visitor-hits\" data-id=\"239598\" download=\"true\" href=\"https://www.swaminarayanvadtalgadi.org/wp-content/uploads/2019/12/Swaminarayan-Gaiye-re.mp4\" title=\"\"> <span class=\"magazine-download-link\">Download</span> </a></p><p> <i class=\"fa fa-cloud-download\"></i> <span class=\"text-left\" id=\"svg-visitor-hits-view-239598\">889</span></p> <!--</a>--></div></div><div class=\"col-md-2 col-xs-6\"><div class=\"status-gallery-section\"> <!--<a href=\"https://www.swaminarayanvadtalgadi.org/wp-content/uploads/2019/12/Swaminarayan-Aaj-Pragat-Mahamnatra-Che.mp4\" title=\"\" data-id=\"239597\" class=\"download-svg-visitor-hits\" download=\"true\">--> <img class=\"lazy watch-video\" data-src=\"https://www.swaminarayanvadtalgadi.org/wp-content/uploads/2019/12/Swaminarayan-Aaj-Pragat-Mahamnatra-Che.mp4\" src=\"https://www.swaminarayanvadtalgadi.org/wp-content/uploads/2019/12/Swaminarayan-Aaj-Pragat-Mahamnatra-Chhe-Image.jpg\" width=\"100%\"/><p><a class=\"watch-video download-svg-visitor-hits\" data-id=\"239597\" download=\"true\" href=\"https://www.swaminarayanvadtalgadi.org/wp-content/uploads/2019/12/Swaminarayan-Aaj-Pragat-Mahamnatra-Che.mp4\" title=\"\"> <span class=\"magazine-download-link\">Download</span> </a></p><p> <i class=\"fa fa-cloud-download\"></i> <span class=\"text-left\" id=\"svg-visitor-hits-view-239597\">788</span></p> <!--</a>--></div></div><div class=\"col-md-2 col-xs-6\"><div class=\"status-gallery-section\"> <!--<a href=\"https://www.swaminarayanvadtalgadi.org/wp-content/uploads/2019/12/Rudu-Swaminarayan-Nam-Nitya.mp4\" title=\"\" data-id=\"239596\" class=\"download-svg-visitor-hits\" download=\"true\">--> <img class=\"lazy watch-video\" data-src=\"https://www.swaminarayanvadtalgadi.org/wp-content/uploads/2019/12/Rudu-Swaminarayan-Nam-Nitya.mp4\" src=\"https://www.swaminarayanvadtalgadi.org/wp-content/uploads/2019/12/Rudu-Swaminarayan-Nam-Nitya-Image.jpg\" width=\"100%\"/><p><a class=\"watch-video download-svg-visitor-hits\" data-id=\"239596\" download=\"true\" href=\"https://www.swaminarayanvadtalgadi.org/wp-content/uploads/2019/12/Rudu-Swaminarayan-Nam-Nitya.mp4\" title=\"\"> <span class=\"magazine-download-link\">Download</span> </a></p><p> <i class=\"fa fa-cloud-download\"></i> <span class=\"text-left\" id=\"svg-visitor-hits-view-239596\">1105</span></p> <!--</a>--></div></div><div class=\"col-md-2 col-xs-6\"><div class=\"status-gallery-section\"> <!--<a href=\"https://www.swaminarayanvadtalgadi.org/wp-content/uploads/2019/12/Je-Swaminarayan-Nam-Leshe.mp4\" title=\"\" data-id=\"239595\" class=\"download-svg-visitor-hits\" download=\"true\">--> <img class=\"lazy watch-video\" data-src=\"https://www.swaminarayanvadtalgadi.org/wp-content/uploads/2019/12/Je-Swaminarayan-Nam-Leshe.mp4\" src=\"https://www.swaminarayanvadtalgadi.org/wp-content/uploads/2019/12/Je-Swaminarayan-Nam-Leshe-Image-1.jpg\" width=\"100%\"/><p><a class=\"watch-video download-svg-visitor-hits\" data-id=\"239595\" download=\"true\" href=\"https://www.swaminarayanvadtalgadi.org/wp-content/uploads/2019/12/Je-Swaminarayan-Nam-Leshe.mp4\" title=\"\"> <span class=\"magazine-download-link\">Download</span> </a></p><p> <i class=\"fa fa-cloud-download\"></i> <span class=\"text-left\" id=\"svg-visitor-hits-view-239595\">1291</span></p> <!--</a>--></div></div><div class=\"col-md-2 col-xs-6\"><div class=\"status-gallery-section\"> <!--<a href=\"https://www.swaminarayanvadtalgadi.org/wp-content/uploads/2019/05/1576039504.mp4\" title=\"Dharmakul Mahima\" data-id=\"239156\" class=\"download-svg-visitor-hits\" download=\"true\">--> <img class=\"lazy watch-video\" data-src=\"https://www.swaminarayanvadtalgadi.org/wp-content/uploads/2019/05/1576039504.mp4\" src=\"https://www.swaminarayanvadtalgadi.org/wp-content/uploads/2019/05/instagram-Gurupurnima-Mahotsav-Raghuvir-Vadi-Vadtal-2019.jpg\" width=\"100%\"/><p><a class=\"watch-video download-svg-visitor-hits\" data-id=\"239156\" download=\"true\" href=\"https://www.swaminarayanvadtalgadi.org/wp-content/uploads/2019/05/1576039504.mp4\" title=\"Dharmakul Mahima\"> <span class=\"magazine-download-link\">Download</span> </a></p><p> <i class=\"fa fa-cloud-download\"></i> <span class=\"text-left\" id=\"svg-visitor-hits-view-239156\">1914</span></p> <!--</a>--></div></div></div>\n"
     ]
    }
   ],
   "source": [
    "print(results)"
   ]
  },
  {
   "cell_type": "code",
   "execution_count": 7,
   "metadata": {},
   "outputs": [
    {
     "output_type": "stream",
     "name": "stdout",
     "text": [
      "0\nhttps://www.swaminarayanvadtalgadi.org/wp-content/uploads/2021/04/Lalaji-Maharaj-Birthday-2021-1.jpg\nhttps://www.swaminarayanvadtalgadi.org/wp-content/uploads/2021/04/Lalaji-Maharaj-Birthday-2021.mp4\n1\nhttps://www.swaminarayanvadtalgadi.org/wp-content/uploads/2021/04/Raghuvirji-maharaj-status.png\nhttps://www.swaminarayanvadtalgadi.org/wp-content/uploads/2021/04/Raghuvirji-Maharajs-Birthday.mp4\n2\nhttps://www.swaminarayanvadtalgadi.org/wp-content/uploads/2021/03/Holi-status.png\nhttps://www.swaminarayanvadtalgadi.org/wp-content/uploads/2021/03/Holi-Status.mp4\n3\nhttps://www.swaminarayanvadtalgadi.org/wp-content/uploads/2021/03/Joi-Murti-Manohar-Tari-1.jpg\nhttps://www.swaminarayanvadtalgadi.org/wp-content/uploads/2021/03/Joi-Murti-Manohar-Tari-re-Status.mp4\n4\nhttps://www.swaminarayanvadtalgadi.org/wp-content/uploads/2021/03/Hanumanji-status.png\nhttps://www.swaminarayanvadtalgadi.org/wp-content/uploads/2021/03/Hanumanji.mp4\n5\nhttps://www.swaminarayanvadtalgadi.org/wp-content/uploads/2020/12/Kode-Kode-Ekadashi-Kijiye.png\nhttps://www.swaminarayanvadtalgadi.org/wp-content/uploads/2020/12/Kode-Kode-Ekadashi-Kijiye.mp4\n6\nhttps://www.swaminarayanvadtalgadi.org/wp-content/uploads/2020/12/Ekala-Kem-Rahevay-Tam-Vina-Vhalaji.png\nhttps://www.swaminarayanvadtalgadi.org/wp-content/uploads/2020/12/Ekala-Kem-Rahevay-Tam-Vina-Vhalaji.mp4\n7\nhttps://www.swaminarayanvadtalgadi.org/wp-content/uploads/2020/12/Mara-Mandiriyama-Maav-Moju-Mano.png\nhttps://www.swaminarayanvadtalgadi.org/wp-content/uploads/2020/12/Mara-Mandiriyama-Maav-Moju-Mano.mp4\n8\nhttps://www.swaminarayanvadtalgadi.org/wp-content/uploads/2020/12/Sarve-Sakhi-Jivan-Jovane-Chalo-Re-Status.png\nhttps://www.swaminarayanvadtalgadi.org/wp-content/uploads/2020/12/Sarve-Sakhi-Jivan-Jovane-Chalo-Re-Status.mp4\n9\nhttps://www.swaminarayanvadtalgadi.org/wp-content/uploads/2020/11/Hai-Dhany-Dham-Subh-Gaam-Vadtal-Ne-Jo.png\nhttps://www.swaminarayanvadtalgadi.org/wp-content/uploads/2020/11/Hai-Dhany-Dham-Subh-Gaam-Vadtal-Ne-Jo.mp4\n10\nhttps://www.swaminarayanvadtalgadi.org/wp-content/uploads/2020/11/Acharya-Sthapan-Din.png\nhttps://www.swaminarayanvadtalgadi.org/wp-content/uploads/2020/11/Acharya-Sthapan-Din.mp4\n11\nhttps://www.swaminarayanvadtalgadi.org/wp-content/uploads/2020/11/Mava-Na-Mugatada.png\nhttps://www.swaminarayanvadtalgadi.org/wp-content/uploads/2020/11/Mava-Na-Mugatada.mp4\n12\nhttps://www.swaminarayanvadtalgadi.org/wp-content/uploads/2020/11/Swaminarayan-Saty-Chhe.png\nhttps://www.swaminarayanvadtalgadi.org/wp-content/uploads/2020/11/Swaminaryan-Satya-Che.mp4\n13\nhttps://www.swaminarayanvadtalgadi.org/wp-content/uploads/2020/11/Chalat-More-re-Hasi-Chit-Chore.png\nhttps://www.swaminarayanvadtalgadi.org/wp-content/uploads/2020/11/Teri-Savari-Surata-Chatadal.mp4\n14\nhttps://www.swaminarayanvadtalgadi.org/wp-content/uploads/2020/11/Hanuman-Chalisa.png\nhttps://www.swaminarayanvadtalgadi.org/wp-content/uploads/2020/11/Hanuman-Chalisa-2020.mp4\n15\nhttps://www.swaminarayanvadtalgadi.org/wp-content/uploads/2020/10/Bhakt-Chintamani-Satatus.png\nhttps://www.swaminarayanvadtalgadi.org/wp-content/uploads/2020/10/Bhakt-Chintamani-Satatus.mp4\n16\nhttps://www.swaminarayanvadtalgadi.org/wp-content/uploads/2020/10/O-Gadhpur-Wala-Gopinath.png\nhttps://www.swaminarayanvadtalgadi.org/wp-content/uploads/2020/10/O-Gadhpur-Wala-Gopinath.mp4\n17\nhttps://www.swaminarayanvadtalgadi.org/wp-content/uploads/2020/10/Shreeji-Tara-Raaj-Ma-Saune-Lila-Ler-Chhe.png\nhttps://www.swaminarayanvadtalgadi.org/wp-content/uploads/2020/10/Shreeji-Tara-Raaj-Ma-Saune-Lila-Ler-Chhe.mp4\n18\nhttps://www.swaminarayanvadtalgadi.org/wp-content/uploads/2020/10/Sahajanand-Swami.png\nhttps://www.swaminarayanvadtalgadi.org/wp-content/uploads/2020/10/Sahajanand-Swami.mp4\n19\nhttps://www.swaminarayanvadtalgadi.org/wp-content/uploads/2020/10/Pyari-Laage-Murti-Tamari.png\nhttps://www.swaminarayanvadtalgadi.org/wp-content/uploads/2020/10/Pyari-Laage-Murti-Tamari.mp4\n20\nhttps://www.swaminarayanvadtalgadi.org/wp-content/uploads/2020/10/Manakiye-Chadya-Re.png\nhttps://www.swaminarayanvadtalgadi.org/wp-content/uploads/2020/10/Manakiye-Chadya-Re.mp4\n21\nhttps://www.swaminarayanvadtalgadi.org/wp-content/uploads/2020/10/Latakala-Tare-Latake-Re.png\nhttps://www.swaminarayanvadtalgadi.org/wp-content/uploads/2020/10/Latakala-Tare-Latake-Re.mp4\n22\nhttps://www.swaminarayanvadtalgadi.org/wp-content/uploads/2020/10/Ke-Vari-Jau-Gopinath-Maharaj.png\nhttps://www.swaminarayanvadtalgadi.org/wp-content/uploads/2020/10/Ke-Vari-Jau-Gopinath-Maharaj.mp4\n23\nhttps://www.swaminarayanvadtalgadi.org/wp-content/uploads/2020/10/Bethe-Dharmakunvar-Ghanshyam.png\nhttps://www.swaminarayanvadtalgadi.org/wp-content/uploads/2020/10/Bethe-Dharmakunvar-Ghanshyam.mp4\n24\nhttps://www.swaminarayanvadtalgadi.org/wp-content/uploads/2020/10/Aavone-Albela.png\nhttps://www.swaminarayanvadtalgadi.org/wp-content/uploads/2020/10/Aavone-Albela.mp4\n25\nhttps://www.swaminarayanvadtalgadi.org/wp-content/uploads/2020/09/Me-to-sarve-melyo-sansar-re-sagapan.png\nhttps://www.swaminarayanvadtalgadi.org/wp-content/uploads/2020/09/Me-to-sarve-melyo-sansar-re-sagapan.mp4\n26\nhttps://www.swaminarayanvadtalgadi.org/wp-content/uploads/2020/09/Tara-mukhni-shobha-joi-re.png\nhttps://www.swaminarayanvadtalgadi.org/wp-content/uploads/2020/09/Tara-mukhni-shobha-joi-re.mp4\n27\nhttps://www.swaminarayanvadtalgadi.org/wp-content/uploads/2020/09/Tamari-Murti-Vina-Mara-Nath-Re-Biju-Mane.png\nhttps://www.swaminarayanvadtalgadi.org/wp-content/uploads/2020/09/Tamari-Murti-Vina-Mara-Nath-Re-Biju-Mane.mp4\n28\nhttps://www.swaminarayanvadtalgadi.org/wp-content/uploads/2020/09/Snehabharya-nayane-nihaḷata-ho.png\nhttps://www.swaminarayanvadtalgadi.org/wp-content/uploads/2020/09/Snehabharya-nayane-nihaḷata-ho.mp4\n29\nhttps://www.swaminarayanvadtalgadi.org/wp-content/uploads/2020/09/Man-Maru-Mohyu.png\nhttps://www.swaminarayanvadtalgadi.org/wp-content/uploads/2020/09/Man-Maru-Mohyu.mp4\n30\nhttps://www.swaminarayanvadtalgadi.org/wp-content/uploads/2020/09/Dharmkul-mahima-3.png\nhttps://www.swaminarayanvadtalgadi.org/wp-content/uploads/2020/09/Dharmkul-mahima-3.mp4\n31\nhttps://www.swaminarayanvadtalgadi.org/wp-content/uploads/2020/09/Dharmakunvara-harikrush-ni-re.png\nhttps://www.swaminarayanvadtalgadi.org/wp-content/uploads/2020/09/Dharmakunvara-harikrush-ni-re.mp4\n32\nhttps://www.swaminarayanvadtalgadi.org/wp-content/uploads/2020/09/aj-sakhi-anandni-heli.png\nhttps://www.swaminarayanvadtalgadi.org/wp-content/uploads/2020/09/Aj-sakhi-anandni-heli.mp4\n33\nhttps://www.swaminarayanvadtalgadi.org/wp-content/uploads/2020/09/Saryu-Jal-MA-Keshar-Gholi.png\nhttps://www.swaminarayanvadtalgadi.org/wp-content/uploads/2020/09/Saryu-Jalma-Kesar-Ghodi.mp4\n34\nhttps://www.swaminarayanvadtalgadi.org/wp-content/uploads/2020/09/Man-Maru-Mohyu-Mohanalal.png\nhttps://www.swaminarayanvadtalgadi.org/wp-content/uploads/2020/09/Vandu-Sahajanad.mp4\n35\nhttps://www.swaminarayanvadtalgadi.org/wp-content/uploads/2020/09/Ganesh-Chaturthi.png\nhttps://www.swaminarayanvadtalgadi.org/wp-content/uploads/2020/09/Vakratunda-Mahakaya-2020.mp4\n36\nhttps://www.swaminarayanvadtalgadi.org/wp-content/uploads/2020/09/Shivratri.png\nhttps://www.swaminarayanvadtalgadi.org/wp-content/uploads/2020/09/Shivratri.mp4\n37\nhttps://www.swaminarayanvadtalgadi.org/wp-content/uploads/2020/09/Enu-Jene-Karyu-Sanman-re.png\nhttps://www.swaminarayanvadtalgadi.org/wp-content/uploads/2020/09/Dharmakul-Mahima-2-2020.mp4\n38\nhttps://www.swaminarayanvadtalgadi.org/wp-content/uploads/2020/09/Eh-Kahe-Tem-Sahu-Karjo-re.png\nhttps://www.swaminarayanvadtalgadi.org/wp-content/uploads/2020/09/Dharmakul-Mahima-1-2020.mp4\n39\nhttps://www.swaminarayanvadtalgadi.org/wp-content/uploads/2020/09/Bolya-Shree-Hari-Re.png\nhttps://www.swaminarayanvadtalgadi.org/wp-content/uploads/2020/09/Aaj-Mare-Orade-re.mp4\n40\nhttps://www.swaminarayanvadtalgadi.org/wp-content/uploads/2020/08/Prabhatiya-Jagoni-Jagjivan-Bole-1.png\nhttps://www.swaminarayanvadtalgadi.org/wp-content/uploads/2020/08/Prabhatiya-Jagoni-Jagjivan-Bole-1-Status.mp4\n41\nhttps://www.swaminarayanvadtalgadi.org/wp-content/uploads/2020/03/Satsangi-nu-Lakshan.jpg\nhttps://www.swaminarayanvadtalgadi.org/wp-content/uploads/2020/03/Satsangi-nu-Lakshan-360p.mp4\n42\nhttps://www.swaminarayanvadtalgadi.org/wp-content/uploads/2020/03/Maharaj-ne-Santo-Par-Vishwas.jpg\nhttps://www.swaminarayanvadtalgadi.org/wp-content/uploads/2020/03/Maharaj-ne-Santo-Par-Vishwas-360.mp4\n43\nhttps://www.swaminarayanvadtalgadi.org/wp-content/uploads/2020/03/Khara-Patma-Beej-Uge-Ke-Nahi.jpg\nhttps://www.swaminarayanvadtalgadi.org/wp-content/uploads/2020/03/Khara-Patma-Beej-Uge-Ke-Nahi-360.mp4\n44\nhttps://www.swaminarayanvadtalgadi.org/wp-content/uploads/2020/03/Kaliyug-Ma-Keva-Manso-Malshe.jpg\nhttps://www.swaminarayanvadtalgadi.org/wp-content/uploads/2020/03/Kaliyug-Ma-Keva-Manso-Malshe-360.mp4\n45\nhttps://www.swaminarayanvadtalgadi.org/wp-content/uploads/2020/03/Jagat-ne-Dekhadva-Bhajan-na-Karvu.jpg\nhttps://www.swaminarayanvadtalgadi.org/wp-content/uploads/2020/03/Jagat-ne-Dekhadva-Bhajan-na-Karvu-360.mp4\n46\nhttps://www.swaminarayanvadtalgadi.org/wp-content/uploads/2020/03/Dharma-Atle-Shu.jpg\nhttps://www.swaminarayanvadtalgadi.org/wp-content/uploads/2020/03/Dharma-Atle-Shu-360p.mp4\n47\nhttps://www.swaminarayanvadtalgadi.org/wp-content/uploads/2020/03/Satsang-Ma-Motu-Kon.jpg\nhttps://www.swaminarayanvadtalgadi.org/wp-content/uploads/2020/03/Satsang-Ma-Motu-Kon-480p.mp4\n48\nhttps://www.swaminarayanvadtalgadi.org/wp-content/uploads/2020/03/Satsang-Aetle-Shu.jpg\nhttps://www.swaminarayanvadtalgadi.org/wp-content/uploads/2020/03/Satsang-Aetle-Shu.mp4\n49\nhttps://www.swaminarayanvadtalgadi.org/wp-content/uploads/2020/03/Ma-bap-ne-Khas-Bhalaman.jpg\nhttps://www.swaminarayanvadtalgadi.org/wp-content/uploads/2020/03/Ma-bap-ne-Khas-Bhalaman.mp4\n50\nhttps://www.swaminarayanvadtalgadi.org/wp-content/uploads/2020/03/Bhavsagar-mathi-Bhagvan-kyare-Ugare.jpg\nhttps://www.swaminarayanvadtalgadi.org/wp-content/uploads/2020/03/Bhavsagar-mathi-Bhagvan-kyare-Ugare.mp4\n51\nhttps://www.swaminarayanvadtalgadi.org/wp-content/uploads/2020/03/Apane-Satsangma-Sha-mate-Avya.jpg\nhttps://www.swaminarayanvadtalgadi.org/wp-content/uploads/2020/03/Apane-Satsangma-Sha-mate-Avya.mp4\n52\nhttps://www.swaminarayanvadtalgadi.org/wp-content/uploads/2020/02/Shiv-Poojan-Lalji-Maharaj.jpg\nhttps://www.swaminarayanvadtalgadi.org/wp-content/uploads/2020/02/Shivaratri-Status.mp4\n53\nhttps://www.swaminarayanvadtalgadi.org/wp-content/uploads/2020/02/Sitajini-Sachi-Samjan.jpg\nhttps://www.swaminarayanvadtalgadi.org/wp-content/uploads/2020/02/Sitajini-Sachi-Samjan.mp4\n54\nhttps://www.swaminarayanvadtalgadi.org/wp-content/uploads/2020/02/Shastrone-Jivanma-Utariye.jpg\nhttps://www.swaminarayanvadtalgadi.org/wp-content/uploads/2020/02/Shastrone-Jivanma-Utariye.mp4\n55\nhttps://www.swaminarayanvadtalgadi.org/wp-content/uploads/2020/02/Sacho-Arth-Mari-Marji-Vina-Re-Koithi-Tarnu-Nav-Today.jpg\nhttps://www.swaminarayanvadtalgadi.org/wp-content/uploads/2020/02/Sacho-Arth-Mari-Marji-Vina-Re-Koithi-Tarnu-Nav-Today-360p.mp4\n56\nhttps://www.swaminarayanvadtalgadi.org/wp-content/uploads/2020/02/Rajipo-Kalyanno-Rasto.jpg\nhttps://www.swaminarayanvadtalgadi.org/wp-content/uploads/2020/02/Rajipo-Kalyanno-Rasto.mp4\n57\nhttps://www.swaminarayanvadtalgadi.org/wp-content/uploads/2020/02/Dharmkulno-Dharm.jpg\nhttps://www.swaminarayanvadtalgadi.org/wp-content/uploads/2020/02/Dharmkulno-Dharm.mp4\n58\nhttps://www.swaminarayanvadtalgadi.org/wp-content/uploads/2020/02/Bramhanand-Swamini-Jem-Atmachintan-Jivanma-Avashy-Karvu.jpg\nhttps://www.swaminarayanvadtalgadi.org/wp-content/uploads/2020/02/Bramhanand-Swamini-Jem-Atmachintan-Jivanma-Avashy-Karvu-360p.mp4\n59\nhttps://www.swaminarayanvadtalgadi.org/wp-content/uploads/2020/02/Apana-Kalyanni-Javabdari-Koni.jpg\nhttps://www.swaminarayanvadtalgadi.org/wp-content/uploads/2020/02/Apana-Kalyanni-Javabdari-Koni.mp4\n60\nhttps://www.swaminarayanvadtalgadi.org/wp-content/uploads/2020/02/Akshardhamno-Marg-Sahelo-k-Agharo.jpg\nhttps://www.swaminarayanvadtalgadi.org/wp-content/uploads/2020/02/Akshardhamno-Marg-Sahelo-k-Agharo.mp4\n61\nhttps://www.swaminarayanvadtalgadi.org/wp-content/uploads/2020/02/Vachanamrutna-Adhare-Bhagvan-Kem-Raji-Thay-Status-img.jpg\nhttps://www.swaminarayanvadtalgadi.org/wp-content/uploads/2020/02/Vachanamrutna-Adhare-Bhagvan-Kem-Raji-Thay-Status-480p.mp4\n62\nhttps://www.swaminarayanvadtalgadi.org/wp-content/uploads/2020/02/Maharaj-Utsav-Smaiya-Sha-Mate-Karavta-Staus-img.jpg\nhttps://www.swaminarayanvadtalgadi.org/wp-content/uploads/2020/02/Maharaj-Utsav-Smaiya-Sha-Mate-Karavta-Staus-480p.mp4\n63\nhttps://www.swaminarayanvadtalgadi.org/wp-content/uploads/2020/02/Kaliyugma-Konu-Chale-Status-img.jpg\nhttps://www.swaminarayanvadtalgadi.org/wp-content/uploads/2020/02/Kaliyugma-Konu-Chale-Status-480p.mp4\n64\nhttps://www.swaminarayanvadtalgadi.org/wp-content/uploads/2020/02/Dharmkulna-Jivanmathi-Abhav-Avagun-Nikale-j-Nahi-Status-img.jpg\nhttps://www.swaminarayanvadtalgadi.org/wp-content/uploads/2020/02/Dharmkulna-Jivanmathi-Abhav-Avagun-Nikale-j-Nahi-Status-480p.mp4\n65\nhttps://www.swaminarayanvadtalgadi.org/wp-content/uploads/2020/02/Mandir-Sha-Mate-Jaruri-6.jpg\nhttps://www.swaminarayanvadtalgadi.org/wp-content/uploads/2020/02/મંદિર-શા-માટે-જરૂરી-છે-2020-480p.mp4\n66\nhttps://www.swaminarayanvadtalgadi.org/wp-content/uploads/2020/02/shu-karsho-to-bhagvan-ant-kale-yad-aave.jpg\nhttps://www.swaminarayanvadtalgadi.org/wp-content/uploads/2020/02/શું-કરશો-તો-ભગવાન-અંતકાળે-યાદ-આવે-2020-480p.mp4\n67\nhttps://www.swaminarayanvadtalgadi.org/wp-content/uploads/2020/01/Nugendraprasadji-Maharaj-Shree.jpg\nhttps://www.swaminarayanvadtalgadi.org/wp-content/uploads/2020/01/Nugendraprasadji-Maharaj-Shree-1.mp4\n68\nhttps://www.swaminarayanvadtalgadi.org/wp-content/uploads/2019/12/Sakhi-Aaj-Mohan-Ditha-Re.jpg\nhttps://www.swaminarayanvadtalgadi.org/wp-content/uploads/2019/12/Sakhi-Aaj-Mohan-Ditha-Re.mp4\n69\nhttps://www.swaminarayanvadtalgadi.org/wp-content/uploads/2019/12/Gopinath-AAvo-mare-Orde.jpg\nhttps://www.swaminarayanvadtalgadi.org/wp-content/uploads/2019/12/Gopinath-AAvo-mare-Orde.mp4\n70\nhttps://www.swaminarayanvadtalgadi.org/wp-content/uploads/2019/12/Swaminarayan-Gashe-Taru-Saru-Te-Di-Thase-Image.jpg\nhttps://www.swaminarayanvadtalgadi.org/wp-content/uploads/2019/12/Swaminarayan-Gashe-taru-saru-te-di-thase.mp4\n71\nhttps://www.swaminarayanvadtalgadi.org/wp-content/uploads/2019/12/Swaminarayan-Gaiye-Re-Image.jpg\nhttps://www.swaminarayanvadtalgadi.org/wp-content/uploads/2019/12/Swaminarayan-Gaiye-re.mp4\n72\nhttps://www.swaminarayanvadtalgadi.org/wp-content/uploads/2019/12/Swaminarayan-Aaj-Pragat-Mahamnatra-Chhe-Image.jpg\nhttps://www.swaminarayanvadtalgadi.org/wp-content/uploads/2019/12/Swaminarayan-Aaj-Pragat-Mahamnatra-Che.mp4\n73\nhttps://www.swaminarayanvadtalgadi.org/wp-content/uploads/2019/12/Rudu-Swaminarayan-Nam-Nitya-Image.jpg\nhttps://www.swaminarayanvadtalgadi.org/wp-content/uploads/2019/12/Rudu-Swaminarayan-Nam-Nitya.mp4\n74\nhttps://www.swaminarayanvadtalgadi.org/wp-content/uploads/2019/12/Je-Swaminarayan-Nam-Leshe-Image-1.jpg\nhttps://www.swaminarayanvadtalgadi.org/wp-content/uploads/2019/12/Je-Swaminarayan-Nam-Leshe.mp4\n75\nhttps://www.swaminarayanvadtalgadi.org/wp-content/uploads/2019/05/instagram-Gurupurnima-Mahotsav-Raghuvir-Vadi-Vadtal-2019.jpg\nhttps://www.swaminarayanvadtalgadi.org/wp-content/uploads/2019/05/1576039504.mp4\n"
     ]
    }
   ],
   "source": [
    "job_elems = results.find_all('img', class_='watch-video')\n",
    "i=0\n",
    "videosList = []\n",
    "for job_elem in job_elems:\n",
    "    if not None in (job_elem):\n",
    "        print(i)\n",
    "        print(job_elem['src'])\n",
    "        print(job_elem['data-src'])\n",
    "        videosList.append({'src':job_elem['src'],'data-src':job_elem['data-src']})\n",
    "        i-=-1\n",
    "#                 with open(self.username+'_dp.jpg', 'wb') as handle:\n",
    "#                     response = requests.get(job_elem['src'], stream=True)\n",
    "#                     if not response.ok:\n",
    "#                         print(response)"
   ]
  },
  {
   "cell_type": "code",
   "execution_count": 8,
   "metadata": {},
   "outputs": [
    {
     "output_type": "execute_result",
     "data": {
      "text/plain": [
       "76"
      ]
     },
     "metadata": {},
     "execution_count": 8
    }
   ],
   "source": [
    "len(videosList)"
   ]
  },
  {
   "cell_type": "code",
   "execution_count": 9,
   "metadata": {},
   "outputs": [],
   "source": [
    "import json\n",
    "import urllib.request\n",
    "jdata = {}\n",
    "jdata['data']=[]\n",
    "url = 'https://www.swaminarayanvadtalgadi.org'\n",
    "def call_download(delay, data):\n",
    "    \n",
    "    imgName=os.path.basename(data['img'].path)\n",
    "    videoName = os.path.basename(data['video'].path)\n",
    "    path = os.path.splitext(imgName)[0]\n",
    "    # print(path)\n",
    "    try:\n",
    "        if not os.path.exists(path):\n",
    "            os.mkdir(path)\n",
    "        jdata['data'].append({\n",
    "            'path':path,\n",
    "            'img':imgName,\n",
    "            'video':videoName\n",
    "        })\n",
    "        if not os.path.exists(path+\"/\"+imgName):\n",
    "            with urllib.request.urlopen(url+data['img'].path) as response, open(path+\"/\"+imgName, 'wb') as out_file:\n",
    "                data = response.read() # a `bytes` object\n",
    "                out_file.write(data)\n",
    "                print( \"%s downloaded!\\n\"%imgName )\n",
    "        if not os.path.exists(path+\"/\"+videoName):\n",
    "            r = requests.get(url+data['video'].path, stream = True) \n",
    "            with open(path+\"/\"+videoName, 'wb') as f: \n",
    "                for chunk in r.iter_content(chunk_size = 1024*1024): \n",
    "                    if chunk: \n",
    "                        f.write(chunk) \n",
    "            print( \"%s downloaded!\\n\"%videoName )\n",
    "        # with urllib.request.urlopen(url+data['video'].path) as response, open(path+\"/\"+videoName, 'wb') as out_file:\n",
    "        #     data = response.read() # a `bytes` object\n",
    "        #     out_file.write(data)\n",
    "        #     print(path)\n",
    "    except OSError as error: \n",
    "        # pass\n",
    "        print(error)  "
   ]
  },
  {
   "cell_type": "code",
   "execution_count": 10,
   "metadata": {},
   "outputs": [],
   "source": [
    "async def callVideoList(videosList):\n",
    "    loop = asyncio.get_event_loop()\n",
    "    for item in videosList:\n",
    "        img_url = item['src']\n",
    "        video_url = item['data-src']\n",
    "        a_img = urlparse(img_url)\n",
    "        a_video = urlparse(video_url)\n",
    "        # print(a_img.path,a_video.path)\n",
    "        try:\n",
    "            await loop.run_until_complete(call_download(5000,{'img':a_img,'video':a_video}))\n",
    "        except Exception as e:\n",
    "            pass\n",
    "    with open('data.json', 'w') as outfile:\n",
    "        json.dump(jdata, outfile)\n",
    "            # print('[ERROR] ->',e)\n",
    "        # await call_download(5000,{'img':a_img,'video':a_video}) "
   ]
  },
  {
   "cell_type": "code",
   "execution_count": 11,
   "metadata": {},
   "outputs": [],
   "source": [
    "async def main():\n",
    "    loop = asyncio.get_event_loop()\n",
    "    page = requests.get('https://www.swaminarayanvadtalgadi.org/status/')\n",
    "        # print(page)\n",
    "    soup = BeautifulSoup(page.content, 'html.parser')\n",
    "    results = soup.find(id='svg-youtube-playlist-section')\n",
    "    job_elems = results.find_all('img', class_='watch-video')\n",
    "    i=0\n",
    "    videosList = []\n",
    "    for job_elem in job_elems:\n",
    "        if not None in (job_elem):\n",
    "            print(i)\n",
    "            # print(job_elem['src'])\n",
    "            # print(job_elem['data-src'])\n",
    "            videosList.append({'src':job_elem['src'],'data-src':job_elem['data-src']})\n",
    "            i-=-1\n",
    "    # await callVideoList(videosList)\n",
    "    try:\n",
    "        await loop.run_until_complete(callVideoList(videosList))\n",
    "    except Exception as e:\n",
    "        pass\n",
    "        # print('[ERROR] ->',e)\n",
    "    # asyncio.\n",
    "\n"
   ]
  },
  {
   "cell_type": "code",
   "execution_count": 12,
   "metadata": {},
   "outputs": [
    {
     "output_type": "stream",
     "name": "stdout",
     "text": [
      "0\n",
      "1\n",
      "2\n",
      "3\n",
      "4\n",
      "5\n",
      "6\n",
      "7\n",
      "8\n",
      "9\n",
      "10\n",
      "11\n",
      "12\n",
      "13\n",
      "14\n",
      "15\n",
      "16\n",
      "17\n",
      "18\n",
      "19\n",
      "20\n",
      "21\n",
      "22\n",
      "23\n",
      "24\n",
      "25\n",
      "26\n",
      "27\n",
      "28\n",
      "29\n",
      "30\n",
      "31\n",
      "32\n",
      "33\n",
      "34\n",
      "35\n",
      "36\n",
      "37\n",
      "38\n",
      "39\n",
      "40\n",
      "41\n",
      "42\n",
      "43\n",
      "44\n",
      "45\n",
      "46\n",
      "47\n",
      "48\n",
      "49\n",
      "50\n",
      "51\n",
      "52\n",
      "53\n",
      "54\n",
      "55\n",
      "56\n",
      "57\n",
      "58\n",
      "59\n",
      "60\n",
      "61\n",
      "62\n",
      "63\n",
      "64\n",
      "65\n",
      "66\n",
      "67\n",
      "68\n",
      "69\n",
      "70\n",
      "71\n",
      "72\n",
      "73\n",
      "74\n",
      "75\n",
      "Me-to-sarve-melyo-sansar-re-sagapan.mp4 downloaded!\n",
      "\n",
      "Tara-mukhni-shobha-joi-re.mp4 downloaded!\n",
      "\n",
      "Tamari-Murti-Vina-Mara-Nath-Re-Biju-Mane.mp4 downloaded!\n",
      "\n",
      "Man-Maru-Mohyu.mp4 downloaded!\n",
      "\n",
      "Dharmkul-mahima-3.mp4 downloaded!\n",
      "\n",
      "Dharmakunvara-harikrush-ni-re.mp4 downloaded!\n",
      "\n",
      "Aj-sakhi-anandni-heli.mp4 downloaded!\n",
      "\n",
      "Saryu-Jalma-Kesar-Ghodi.mp4 downloaded!\n",
      "\n",
      "Vandu-Sahajanad.mp4 downloaded!\n",
      "\n",
      "Vakratunda-Mahakaya-2020.mp4 downloaded!\n",
      "\n",
      "Shivratri.mp4 downloaded!\n",
      "\n",
      "Dharmakul-Mahima-2-2020.mp4 downloaded!\n",
      "\n",
      "Dharmakul-Mahima-1-2020.mp4 downloaded!\n",
      "\n",
      "Aaj-Mare-Orade-re.mp4 downloaded!\n",
      "\n",
      "Prabhatiya-Jagoni-Jagjivan-Bole-1-Status.mp4 downloaded!\n",
      "\n",
      "Satsangi-nu-Lakshan-360p.mp4 downloaded!\n",
      "\n",
      "Maharaj-ne-Santo-Par-Vishwas-360.mp4 downloaded!\n",
      "\n",
      "Khara-Patma-Beej-Uge-Ke-Nahi-360.mp4 downloaded!\n",
      "\n",
      "Kaliyug-Ma-Keva-Manso-Malshe-360.mp4 downloaded!\n",
      "\n",
      "Jagat-ne-Dekhadva-Bhajan-na-Karvu-360.mp4 downloaded!\n",
      "\n",
      "Dharma-Atle-Shu-360p.mp4 downloaded!\n",
      "\n",
      "Satsang-Ma-Motu-Kon-480p.mp4 downloaded!\n",
      "\n",
      "Satsang-Aetle-Shu.mp4 downloaded!\n",
      "\n",
      "Ma-bap-ne-Khas-Bhalaman.mp4 downloaded!\n",
      "\n",
      "Bhavsagar-mathi-Bhagvan-kyare-Ugare.mp4 downloaded!\n",
      "\n",
      "Apane-Satsangma-Sha-mate-Avya.mp4 downloaded!\n",
      "\n",
      "Shivaratri-Status.mp4 downloaded!\n",
      "\n",
      "Sitajini-Sachi-Samjan.mp4 downloaded!\n",
      "\n",
      "Shastrone-Jivanma-Utariye.mp4 downloaded!\n",
      "\n",
      "Sacho-Arth-Mari-Marji-Vina-Re-Koithi-Tarnu-Nav-Today-360p.mp4 downloaded!\n",
      "\n",
      "Rajipo-Kalyanno-Rasto.mp4 downloaded!\n",
      "\n",
      "Dharmkulno-Dharm.mp4 downloaded!\n",
      "\n",
      "Bramhanand-Swamini-Jem-Atmachintan-Jivanma-Avashy-Karvu-360p.mp4 downloaded!\n",
      "\n",
      "Apana-Kalyanni-Javabdari-Koni.mp4 downloaded!\n",
      "\n",
      "Akshardhamno-Marg-Sahelo-k-Agharo.mp4 downloaded!\n",
      "\n",
      "Vachanamrutna-Adhare-Bhagvan-Kem-Raji-Thay-Status-480p.mp4 downloaded!\n",
      "\n",
      "Maharaj-Utsav-Smaiya-Sha-Mate-Karavta-Staus-480p.mp4 downloaded!\n",
      "\n",
      "Kaliyugma-Konu-Chale-Status-480p.mp4 downloaded!\n",
      "\n",
      "Dharmkulna-Jivanmathi-Abhav-Avagun-Nikale-j-Nahi-Status-480p.mp4 downloaded!\n",
      "\n",
      "મંદિર-શા-માટે-જરૂરી-છે-2020-480p.mp4 downloaded!\n",
      "\n",
      "શું-કરશો-તો-ભગવાન-અંતકાળે-યાદ-આવે-2020-480p.mp4 downloaded!\n",
      "\n",
      "Nugendraprasadji-Maharaj-Shree-1.mp4 downloaded!\n",
      "\n",
      "Sakhi-Aaj-Mohan-Ditha-Re.mp4 downloaded!\n",
      "\n",
      "Gopinath-AAvo-mare-Orde.mp4 downloaded!\n",
      "\n",
      "Swaminarayan-Gashe-taru-saru-te-di-thase.mp4 downloaded!\n",
      "\n",
      "Swaminarayan-Gaiye-re.mp4 downloaded!\n",
      "\n",
      "Swaminarayan-Aaj-Pragat-Mahamnatra-Che.mp4 downloaded!\n",
      "\n",
      "Rudu-Swaminarayan-Nam-Nitya.mp4 downloaded!\n",
      "\n",
      "Je-Swaminarayan-Nam-Leshe.mp4 downloaded!\n",
      "\n",
      "1576039504.mp4 downloaded!\n",
      "\n"
     ]
    }
   ],
   "source": [
    "if __name__ == \"__main__\":\n",
    "    # await main()/\n",
    "    \n",
    "    await main()"
   ]
  },
  {
   "cell_type": "code",
   "execution_count": null,
   "metadata": {},
   "outputs": [],
   "source": []
  }
 ],
 "metadata": {
  "kernelspec": {
   "name": "python37264bited08919d8bf24c87afebe95039c23d89",
   "display_name": "Python 3.7.2 64-bit"
  },
  "language_info": {
   "codemirror_mode": {
    "name": "ipython",
    "version": 3
   },
   "file_extension": ".py",
   "mimetype": "text/x-python",
   "name": "python",
   "nbconvert_exporter": "python",
   "pygments_lexer": "ipython3",
   "version": "3.7.2"
  },
  "metadata": {
   "interpreter": {
    "hash": "60eb1d0f96393a1e0420bb6ca0f5435a81d9c3ff4319ce3c90a222065ab89d85"
   }
  }
 },
 "nbformat": 4,
 "nbformat_minor": 4
}